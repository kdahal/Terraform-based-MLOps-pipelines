{
  "cells": [
    {
      "cell_type": "markdown",
      "id": "eff9da08",
      "metadata": {},
      "source": [
        "# Interactive RAG Demo\n",
        "\n",
        "This notebook demonstrates a **Retrieval-Augmented Generation (RAG)** system using LangChain and FAISS. You'll:\n",
        "- Load sample documents.\n",
        "- Create a vector store for retrieval.\n",
        "- Query an LLM with context from retrieved documents.\n",
        "\n",
        "**Prerequisites**:\n",
        "- Install dependencies: `pip install -r ../../requirements.txt`\n",
        "- Set `OPENAI_API_KEY` environment variable (or use HuggingFace models).\n",
        "\n",
        "Try changing the query or adding your own documents!"
      ]
    },
    {
      "cell_type": "code",
      "execution_count": null,
      "id": "e9e352ec",
      "metadata": {},
      "outputs": [],
      "source": [
        "import os\n",
        "from langchain_community.vectorstores import FAISS\n",
        "from langchain_openai import OpenAIEmbeddings\n",
        "from langchain.text_splitter import CharacterTextSplitter\n",
        "from langchain_openai import ChatOpenAI\n",
        "from langchain.chains import RetrievalQA\n",
        "\n",
        "# Sample documents (replace with your own)\n",
        "documents = [\n",
        "    \"AI/ML is transforming industries. RAG improves LLM accuracy by retrieving relevant info.\",\n",
        "    \"Terraform automates MLOps pipelines for scalable ML deployments.\"\n",
        "]\n",
        "\n",
        "# Split documents\n",
        "text_splitter = CharacterTextSplitter(chunk_size=1000, chunk_overlap=0)\n",
        "texts = text_splitter.create_documents([doc for doc in documents])\n",
        "\n",
        "# Create vector store\n",
        "embeddings = OpenAIEmbeddings(openai_api_key=os.getenv('OPENAI_API_KEY'))\n",
        "vectorstore = FAISS.from_documents(texts, embeddings)\n",
        "\n",
        "# Initialize LLM and QA chain\n",
        "llm = ChatOpenAI(model='gpt-3.5-turbo', temperature=0)\n",
        "qa_chain = RetrievalQA.from_chain_type(\n",
        "    llm=llm,\n",
        "    chain_type='stuff',\n",
        "    retriever=vectorstore.as_retriever(search_kwargs={'k': 2})\n",
        ")"
      ]
    },
    {
      "cell_type": "markdown",
      "id": "f9ee8b18",
      "metadata": {},
      "source": [
        "## Run a Query\n",
        "\n",
        "Try asking a question related to the documents. Edit the `query` variable below and run the cell."
      ]
    },
    {
      "cell_type": "code",
      "execution_count": null,
      "id": "ed8ccc5e",
      "metadata": {},
      "outputs": [],
      "source": [
        "query = 'What is RAG?'\n",
        "result = qa_chain.run(query)\n",
        "print(result)"
      ]
    },
    {
      "cell_type": "markdown",
      "id": "242842cb",
      "metadata": {},
      "source": [
        "## Experiment!\n",
        "\n",
        "- Try a new query, e.g., 'How does Terraform help MLOps?'\n",
        "- Add more documents to the `documents` list above and re-run.\n",
        "- Check the output. Does it match the context?"
      ]
    }
  ],
  "metadata": {
    "kernelspec": {
      "display_name": "Python 3",
      "language": "python",
      "name": "python3"
    },
    "language_info": {
      "codemirror_mode": {
        "name": "ipython",
        "version": 3
      },
      "file_extension": ".py",
      "mimetype": "text/x-python",
      "name": "python",
      "nbconvert_exporter": "python",
      "pygments_lexer": "ipython3",
      "version": "3.8.10"
    }
  },
  "nbformat": 4,
  "nbformat_minor": 5
}
